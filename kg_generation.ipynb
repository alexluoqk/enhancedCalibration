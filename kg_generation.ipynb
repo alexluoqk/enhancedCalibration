{
 "cells": [
  {
   "cell_type": "code",
   "execution_count": 4,
   "metadata": {},
   "outputs": [
    {
     "name": "stderr",
     "output_type": "stream",
     "text": [
      "/Users/luoqk/opt/anaconda3/envs/shap-e/lib/python3.7/site-packages/ipykernel_launcher.py:18: SettingWithCopyWarning: \n",
      "A value is trying to be set on a copy of a slice from a DataFrame\n",
      "\n",
      "See the caveats in the documentation: https://pandas.pydata.org/pandas-docs/stable/user_guide/indexing.html#returning-a-view-versus-a-copy\n"
     ]
    }
   ],
   "source": [
    "import pandas as pd\n",
    "import json\n",
    "import re\n",
    "\n",
    "jsonConversation = pd.read_csv('10w_test_text.csv')\n",
    "\n",
    "for i in range(len(jsonConversation)):\n",
    "    try:\n",
    "        jsonCtype = json.dumps(jsonConversation['consultingType'][i],ensure_ascii=False)\n",
    "        #jsonCheckintitle = json.dumps(jsonConversation['checkInTitle'][i],ensure_ascii=False) \n",
    "\n",
    "        ctype = json.loads(jsonCtype)\n",
    "        #jsonCheckintitle = json.loads(jsonCheckintitle)\n",
    "\n",
    "        ctype = re.sub('[^\\u4e00-\\u9fa5]+', '', str(ctype))\n",
    "        #jsonCheckintitle = re.sub('[^\\u4e00-\\u9fa5]+', '', str(jsonCheckintitle))\n",
    "\n",
    "        jsonConversation['consultingType'][i] = ctype\n",
    "        #jsonConversation['checkInTitle'][i] = jsonCheckintitle\n",
    "    except Exception as e:\n",
    "        print(e)\n",
    "        print(i)\n",
    "\n",
    "#jsonConversation = jsonConversation[['askList', 'answerList', 'checkInList', 'complaint', 'record', 'advice', 'consultingType']]\n",
    "jsonConversation = jsonConversation[['askList', 'answerList', 'checkInList', 'complaint', 'consultingType']]\n",
    "\n",
    "jsonConversation.to_csv('kg_10w.csv')"
   ]
  }
 ],
 "metadata": {
  "kernelspec": {
   "display_name": "shap-e",
   "language": "python",
   "name": "python3"
  },
  "language_info": {
   "codemirror_mode": {
    "name": "ipython",
    "version": 3
   },
   "file_extension": ".py",
   "mimetype": "text/x-python",
   "name": "python",
   "nbconvert_exporter": "python",
   "pygments_lexer": "ipython3",
   "version": "3.7.16"
  },
  "orig_nbformat": 4
 },
 "nbformat": 4,
 "nbformat_minor": 2
}
